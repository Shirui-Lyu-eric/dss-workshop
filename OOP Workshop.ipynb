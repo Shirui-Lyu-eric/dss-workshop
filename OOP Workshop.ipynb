{
 "cells": [
  {
   "cell_type": "markdown",
   "metadata": {},
   "source": [
    "# Object-Orientated Programming (OOP) Workshop"
   ]
  },
  {
   "cell_type": "markdown",
   "metadata": {},
   "source": [
    "By Zhaoxuan \"Tony\" Wu and Shirui \"Eric\" Lyu"
   ]
  },
  {
   "cell_type": "markdown",
   "metadata": {},
   "source": [
    "In this workshop, you will be introduced Object-Orientated Programming (OOP) paradigm, you will implement a simple system for managing the employees and students at the UCL using OOP to help you understand the concepts of abstraction, containment, polymorphism, and inheritance.\n",
    "\n",
    "We will also look at its use cases in data science. For instances, how to call an API and how to create a pandas DataFrame. Followed by a practice.\n",
    "\n",
    "Learning objectives:\n",
    "- Abstraction\n",
    "- Creating a class\n",
    "- Object vs. class\n",
    "- Instantialising a class\n",
    "- What is \"self\"?\n",
    "- Containment\n",
    "- Polymorphism\n",
    "- Inheritance\n",
    "- JavaScript Object Notation (JSON)\n",
    "- Examples in data science projects\n",
    "- Practice"
   ]
  },
  {
   "cell_type": "markdown",
   "metadata": {},
   "source": [
    "## Abstraction"
   ]
  },
  {
   "cell_type": "markdown",
   "metadata": {},
   "source": [
    "The idea is to select only the features that are highly related or significant to the purposes of the programme."
   ]
  },
  {
   "cell_type": "markdown",
   "metadata": {},
   "source": [
    "# Creating a class"
   ]
  },
  {
   "cell_type": "code",
   "execution_count": 12,
   "metadata": {},
   "outputs": [
    {
     "name": "stdout",
     "output_type": "stream",
     "text": [
      "First\n"
     ]
    }
   ],
   "source": [
    "import time\n",
    "\n",
    "class Person:\n",
    "    def __init__(self, name = \"\", gender = None, YoB = None, eu_citizen = False, ucl_id = \"\"):\n",
    "        self.name = name\n",
    "        self.gender = gender\n",
    "        self.YoB = YoB\n",
    "        self.eu_citizen = eu_citizen\n",
    "        self.ucl_id = ucl_id\n",
    "        \n",
    "    def calculateAge(self):\n",
    "        #print(time.date(\"YYYY\"))\n",
    "        pass\n",
    "        \n",
    "    def outputPerson(self):\n",
    "        info = \"Name: \"+ self.name + \"\\n\" + \"Gender: \" + self.gender + \"\\n\" + \"EU Citizen?: \" + self.eu_citizen + '\\n' +\"UCL ID: \" + self.ucl_id\n",
    "        return info\n",
    "    \n",
    "class Module:\n",
    "    def __init__(self,name = \"\", lecturer = \"\", grade = \"First\"):\n",
    "        self.name = name\n",
    "        self.lecturer = lecturer\n",
    "        self.grade = grade\n",
    "    \n",
    "    \n",
    "class Student(Person):\n",
    "    def __init__(self, name = \"\", gender = None, YoB = None, eu_citizen = False, ucl_id = \"\",programme = \"\",balance = 0, modules = []):\n",
    "        super().__init__(name, gender, YoB, eu_citizen, ucl_id)\n",
    "        self.programme = programme\n",
    "        self.balance = balance\n",
    "        self.modules = modules\n",
    "        \n",
    "    def payTuition(self, amt):\n",
    "        if amt > self.balance or amt < 0:\n",
    "            print(\"ERROR - Student.payTuition(self, amt) - incorrect ammount\")\n",
    "        else:\n",
    "            self.balance -= amt\n",
    "            \n",
    "    def addModule(self,name,lecturer,grade):\n",
    "        self.modules.append(Module(name,lecturer,grade))\n",
    "        \n",
    "def Employee(Person):\n",
    "    def __init__(self, name = \"\", gender = None, YoB = None, eu_citizen = False, ucl_id = \"\", salary = 0, bankAcc = \"\"):\n",
    "        super().__init__(name = \"\", gender = None, YoB = None, eu_citizen = False, ucl_id = \"\")\n",
    "        self.salary = salary\n",
    "        self.bankAcc = bankAcc\n",
    "    \n",
    "def Staff(Employee):\n",
    "    def __init__(self, name = \"\", gender = None, YoB = None, eu_citizen = False, ucl_id = \"\", salary = 0, bankAcc = \"\", role = \"\"):\n",
    "        super().__init__(name = \"\", gender = None, YoB = None, eu_citizen = False, ucl_id = \"\", salary = 0, bankAcc = \"\")\n",
    "        self.role = role\n",
    "\n",
    "        \n",
    "        \n",
    "a = Student()\n",
    "a.addModule(\"BI\",\"Tony\",\"First\")\n",
    "print(a.modules[0].grade)"
   ]
  },
  {
   "cell_type": "code",
   "execution_count": null,
   "metadata": {},
   "outputs": [],
   "source": []
  }
 ],
 "metadata": {
  "kernelspec": {
   "display_name": "Python 3",
   "language": "python",
   "name": "python3"
  },
  "language_info": {
   "codemirror_mode": {
    "name": "ipython",
    "version": 3
   },
   "file_extension": ".py",
   "mimetype": "text/x-python",
   "name": "python",
   "nbconvert_exporter": "python",
   "pygments_lexer": "ipython3",
   "version": "3.7.4"
  }
 },
 "nbformat": 4,
 "nbformat_minor": 2
}
